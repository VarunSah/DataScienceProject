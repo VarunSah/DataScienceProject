{
 "cells": [
  {
   "cell_type": "code",
   "execution_count": 2,
   "metadata": {
    "collapsed": false,
    "deletable": true,
    "editable": true
   },
   "outputs": [],
   "source": [
    "import pandas as pd\n",
    "import numpy as np\n",
    "from sklearn.metrics import classification_report, precision_score, recall_score, f1_score\n",
    "from sklearn.model_selection import KFold\n",
    "from sklearn.ensemble import RandomForestClassifier\n",
    "from sklearn import linear_model, svm, tree"
   ]
  },
  {
   "cell_type": "markdown",
   "metadata": {},
   "source": [
    "## Functions"
   ]
  },
  {
   "cell_type": "code",
   "execution_count": 39,
   "metadata": {
    "collapsed": false
   },
   "outputs": [],
   "source": [
    "def process_data(filename):\n",
    "    \n",
    "    # load dataset\n",
    "    df = pd.read_csv(filename)\n",
    "\n",
    "    # transform boolean features to numeric features\n",
    "    df['first'] = df['first_letter_uppercase'].map({False:0, True:1}).astype(int)\n",
    "    df['all'] = df['all_uppercase'].map({False:0, True:1}).astype(int)\n",
    "    df['part'] = df['part_of_upper_seq'].map({False:0, True:1}).astype(int)\n",
    "    df['next'] = df['next_word_has_numerals'].map({False:0, True:1}).astype(int)\n",
    "    df['the'] = df['previous_word_is_the'].map({False:0, True:1}).astype(int)\n",
    "#     df['from'] = df['previous_word_is_from'].map({False:0, True:1}).astype(int)\n",
    "    df['by'] = df['previous_word_is_by'].map({False:0, True:1}).astype(int)\n",
    "    df['letter'] = df['word_only_contains_letters'].map({False:0, True:1}).astype(int)\n",
    "    df['class'] = df['label'].map({False:0, True:1}).astype(int)\n",
    "    \n",
    "    # drop redundant columns and rows\n",
    "#     df = df.drop(['id', 'word', 'txt_file'], axis=1)\n",
    "    df = df.drop(['first_letter_uppercase', 'all_uppercase', \n",
    "                  'part_of_upper_seq', 'next_word_has_numerals', \n",
    "                  'previous_word_is_the', 'previous_word_is_from', 'previous_word_is_by',\n",
    "                  'word_only_contains_letters', 'label'], axis=1)\n",
    "    df = df.dropna()\n",
    "    df = df.drop_duplicates()\n",
    "    data = np.random.permutation(df.values)\n",
    "    \n",
    "    return data"
   ]
  },
  {
   "cell_type": "code",
   "execution_count": 40,
   "metadata": {
    "collapsed": true
   },
   "outputs": [],
   "source": [
    "# Thresholding for linear regression\n",
    "def label(x, threshold): \n",
    "    if x > threshold:\n",
    "        return 1\n",
    "    return 0\n",
    "\n",
    "# cross validation\n",
    "def get_cv(X, y, model, modelType=0, nFold=5):\n",
    "    precisionLst = []\n",
    "    recallLst = []\n",
    "    f1Lst = []\n",
    "    kf = KFold(n_splits=nFold)\n",
    "    for train, test in kf.split(X):\n",
    "        X_train = X[train]\n",
    "        y_train = list(y[train])\n",
    "        X_test = X[test]\n",
    "        y_test = list(y[test])\n",
    "        \n",
    "        model.fit(X_train, y_train)\n",
    "        y_prediction = model.predict(X_test)\n",
    "        if modelType == 1:\n",
    "            pred= [label(x, 0.5) for x in y_prediction]\n",
    "            y_prediction = pred\n",
    "        elif modelType == 2:\n",
    "            y_score = model.predict_proba(X_test)\n",
    "            y_prediction = [label(x[1], 0.8) for x in y_score]\n",
    "\n",
    "        f1Lst.append(f1_score(y_test, y_prediction))\n",
    "        precisionLst.append(precision_score(y_test, y_prediction))\n",
    "        recallLst.append(recall_score(y_test, y_prediction))\n",
    "    \n",
    "    precision = np.mean(precisionLst)\n",
    "    recall = np.mean(recallLst)\n",
    "    f1 = np.mean(f1Lst)\n",
    "    print(\"\\tPrecision: \", precision)\n",
    "    print(\"\\tRecall: \", recall)\n",
    "    print(\"\\tF1: \", f1)\n",
    "    return [precision, recall]"
   ]
  },
  {
   "cell_type": "code",
   "execution_count": 41,
   "metadata": {
    "collapsed": true
   },
   "outputs": [],
   "source": [
    "def test(X_test, y_test, model):\n",
    "    #predict\n",
    "    y_prediction = model.predict(X_test)\n",
    "    target_names = ['False', 'True']\n",
    "    print(classification_report(y_test, y_prediction, target_names = target_names))"
   ]
  },
  {
   "cell_type": "markdown",
   "metadata": {},
   "source": [
    "## Data "
   ]
  },
  {
   "cell_type": "code",
   "execution_count": 42,
   "metadata": {
    "collapsed": true
   },
   "outputs": [],
   "source": [
    "# load dataset\n",
    "train_data = process_data('dataset/train_vectors.csv')\n",
    "test_data = process_data('dataset/test_vectors.csv')"
   ]
  },
  {
   "cell_type": "markdown",
   "metadata": {},
   "source": [
    "## CV on I"
   ]
  },
  {
   "cell_type": "code",
   "execution_count": 43,
   "metadata": {
    "collapsed": false
   },
   "outputs": [],
   "source": [
    "# Development set\n",
    "X = train_data[:, 3:-1] # keep id\n",
    "y = train_data[:, -1]"
   ]
  },
  {
   "cell_type": "code",
   "execution_count": 44,
   "metadata": {
    "collapsed": false
   },
   "outputs": [
    {
     "name": "stdout",
     "output_type": "stream",
     "text": [
      "Linear Regression\n",
      "\tPrecision:  0.681111659507\n",
      "\tRecall:  0.790598613386\n",
      "\tF1:  0.73123448801\n",
      "Logistic\n",
      "\tPrecision:  0.679166705565\n",
      "\tRecall:  0.81933382087\n",
      "\tF1:  0.742114089871\n",
      "SVM\n",
      "\tPrecision:  0.730119164833\n",
      "\tRecall:  0.524802751288\n",
      "\tF1:  0.60942728957\n",
      "Decision Tree\n",
      "\tPrecision:  0.813479883162\n",
      "\tRecall:  0.818430210828\n",
      "\tF1:  0.815535850267\n",
      "Random Forest\n",
      "\tPrecision:  0.928561118375\n",
      "\tRecall:  0.679200642862\n",
      "\tF1:  0.782959835822\n",
      "---End--\n"
     ]
    }
   ],
   "source": [
    "#Linear Regression\n",
    "lg = linear_model.LinearRegression()\n",
    "print(\"Linear Regression\")\n",
    "get_cv(X, y, lg, 1)\n",
    "\n",
    "# Logistic\n",
    "logistic = linear_model.LogisticRegression(C=1e5)\n",
    "print(\"Logistic\")\n",
    "get_cv(X, y, logistic)\n",
    "\n",
    "svc = svm.SVC()\n",
    "print(\"SVM\")\n",
    "get_cv(X, y, svc)\n",
    "\n",
    "dtree = tree.DecisionTreeClassifier()\n",
    "print(\"Decision Tree\")\n",
    "get_cv(X, y, dtree)\n",
    "\n",
    "rf = RandomForestClassifier(n_estimators=100)\n",
    "print(\"Random Forest\")\n",
    "get_cv(X, y, rf, 2)\n",
    "print(\"---End--\")"
   ]
  },
  {
   "cell_type": "markdown",
   "metadata": {},
   "source": [
    "## Debug 60-40"
   ]
  },
  {
   "cell_type": "code",
   "execution_count": 45,
   "metadata": {
    "collapsed": false
   },
   "outputs": [
    {
     "name": "stdout",
     "output_type": "stream",
     "text": [
      "Random Forest\n"
     ]
    }
   ],
   "source": [
    "# split train data\n",
    "size = train_data.shape[0]\n",
    "split = int(size * 0.6)\n",
    "X_train = X[:split]\n",
    "y_train = list(y[:split])\n",
    "\n",
    "#test data\n",
    "X_test = X[split:]\n",
    "y_test = list(y[split:])\n",
    "\n",
    "print(\"Random Forest\")\n",
    "rf = RandomForestClassifier(n_estimators=100)\n",
    "rf = rf.fit(X_train, y_train)"
   ]
  },
  {
   "cell_type": "markdown",
   "metadata": {},
   "source": [
    "### Increase positive confidence level (improve precision)"
   ]
  },
  {
   "cell_type": "code",
   "execution_count": 46,
   "metadata": {
    "collapsed": false
   },
   "outputs": [
    {
     "name": "stdout",
     "output_type": "stream",
     "text": [
      "             precision    recall  f1-score   support\n",
      "\n",
      "      False       0.86      0.98      0.91       539\n",
      "       True       0.93      0.66      0.77       257\n",
      "\n",
      "avg / total       0.88      0.88      0.87       796\n",
      "\n",
      "Precision:  0.934065934066\n",
      "Recall:  0.661478599222\n"
     ]
    }
   ],
   "source": [
    "y_score = rf.predict_proba(X_test)\n",
    "threshold = 0.8\n",
    "pred = [label(x[1], threshold) for x in y_score]\n",
    "\n",
    "precision = precision_score(y_test, pred)\n",
    "recall = recall_score(y_test, pred)\n",
    "\n",
    "target_names = ['False', 'True']\n",
    "print(classification_report(y_test, pred, target_names = target_names))\n",
    "    \n",
    "print(\"Precision: \", precision)\n",
    "print(\"Recall: \", recall)"
   ]
  },
  {
   "cell_type": "markdown",
   "metadata": {},
   "source": [
    "## Test on J"
   ]
  },
  {
   "cell_type": "code",
   "execution_count": 49,
   "metadata": {
    "collapsed": false
   },
   "outputs": [
    {
     "name": "stdout",
     "output_type": "stream",
     "text": [
      "RandomForrest Testing\n",
      "             precision    recall  f1-score   support\n",
      "\n",
      "      False       0.81      0.98      0.89       780\n",
      "       True       0.92      0.54      0.68       390\n",
      "\n",
      "avg / total       0.85      0.83      0.82      1170\n",
      "\n",
      "Precision:  0.921052631579\n",
      "Recall:  0.538461538462\n"
     ]
    }
   ],
   "source": [
    "# create training data\n",
    "X_test = test_data[:, 3:-1]\n",
    "y_test = list(test_data[:, -1])\n",
    "\n",
    "print(\"RandomForrest Testing\")\n",
    "rf = RandomForestClassifier(n_estimators=100)\n",
    "rf = rf.fit(X, list(y))\n",
    "\n",
    "y_score = rf.predict_proba(X_test)\n",
    "threshold = 0.8\n",
    "pred = [label(x[1], threshold) for x in y_score]\n",
    "\n",
    "target_names = ['False', 'True']\n",
    "print(classification_report(y_test, pred, target_names = target_names))\n",
    "\n",
    "precision = precision_score(y_test, pred)\n",
    "recall = recall_score(y_test, pred)\n",
    "\n",
    "print(\"Precision: \", precision)\n",
    "print(\"Recall: \", recall)"
   ]
  },
  {
   "cell_type": "code",
   "execution_count": null,
   "metadata": {
    "collapsed": true
   },
   "outputs": [],
   "source": []
  }
 ],
 "metadata": {
  "kernelspec": {
   "display_name": "Python 3",
   "language": "python",
   "name": "python3"
  },
  "language_info": {
   "codemirror_mode": {
    "name": "ipython",
    "version": 3
   },
   "file_extension": ".py",
   "mimetype": "text/x-python",
   "name": "python",
   "nbconvert_exporter": "python",
   "pygments_lexer": "ipython3",
   "version": "3.6.0"
  }
 },
 "nbformat": 4,
 "nbformat_minor": 2
}
