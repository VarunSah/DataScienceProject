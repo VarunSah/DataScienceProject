{
 "cells": [
  {
   "cell_type": "markdown",
   "metadata": {},
   "source": [
    "# Prediction"
   ]
  },
  {
   "cell_type": "code",
   "execution_count": 1,
   "metadata": {
    "collapsed": false
   },
   "outputs": [],
   "source": [
    "import py_entitymatching as em\n",
    "import os\n",
    "import pandas as pd"
   ]
  },
  {
   "cell_type": "markdown",
   "metadata": {},
   "source": [
    "## 1. Data preparation"
   ]
  },
  {
   "cell_type": "code",
   "execution_count": 2,
   "metadata": {
    "collapsed": false
   },
   "outputs": [],
   "source": [
    "# Set paths\n",
    "dataset_dir = 'data' # Directory \n",
    "path_ama = dataset_dir + os.sep + 'amazon_products.csv'  # Amazon dataset\n",
    "path_egg = dataset_dir + os.sep + \"newegg_products.csv\"  # NewEggs dataset\n",
    "path_block = dataset_dir + os.sep + 'blocked_pairs.csv' # Labeled (G) sample after blocking"
   ]
  },
  {
   "cell_type": "code",
   "execution_count": 3,
   "metadata": {
    "collapsed": false
   },
   "outputs": [
    {
     "name": "stderr",
     "output_type": "stream",
     "text": [
      "No handlers could be found for logger \"py_entitymatching.io.parsers\"\n"
     ]
    }
   ],
   "source": [
    "# Load data with utf-8 encoding\n",
    "# Amazon\n",
    "tb_ama = em.read_csv_metadata(path_ama, key=\"ASIN\", encoding='utf-8')\n",
    "# NewEgg\n",
    "tb_egg = em.read_csv_metadata(path_egg, key=\"NID\", encoding='utf-8')\n",
    "# Sample S\n",
    "tb_block = em.read_csv_metadata(path_block, \n",
    "                        key=\"_id\", \n",
    "                        ltable=tb_ama, rtable=tb_egg, \n",
    "                        fk_ltable=\"ltable_ASIN\", fk_rtable=\"rtable_NID\", \n",
    "                        encoding='utf-8')"
   ]
  },
  {
   "cell_type": "code",
   "execution_count": 4,
   "metadata": {
    "collapsed": true
   },
   "outputs": [],
   "source": [
    "# Upate attribute type of 'PRICE' from string to numeric\n",
    "atypes1 = em.get_attr_types(tb_ama)\n",
    "atypes1['PRICE'] = 'numeric'\n",
    "atypes2 = em.get_attr_types(tb_egg)\n",
    "atypes2['PRICE'] = 'numeric'"
   ]
  },
  {
   "cell_type": "markdown",
   "metadata": {},
   "source": [
    "## 2. Features Extraction"
   ]
  },
  {
   "cell_type": "markdown",
   "metadata": {},
   "source": [
    "### 2.1 Define feature table"
   ]
  },
  {
   "cell_type": "code",
   "execution_count": 5,
   "metadata": {
    "collapsed": true
   },
   "outputs": [],
   "source": [
    "def price_small(ltuple, rtuple):\n",
    "    d = abs(float(ltuple.PRICE) - float(rtuple.PRICE))\n",
    "    if d < 1:\n",
    "        return 1\n",
    "    else:\n",
    "        return 0\n",
    "    \n",
    "def price_exact(ltuple, rtuple):\n",
    "    d = abs(float(ltuple.PRICE) - float(rtuple.PRICE))\n",
    "    if d < 0.01:\n",
    "        return 1\n",
    "    else:\n",
    "        return 0\n",
    "    \n",
    "def price_large(ltuple, rtuple):\n",
    "    d = abs(float(ltuple.PRICE) - float(rtuple.PRICE))\n",
    "    if d > 10:\n",
    "        return 1\n",
    "    else:\n",
    "        return 0\n",
    "def model_in_name(ltuple, rtuple):\n",
    "    lst1 = ltuple.INFO.split(' ');\n",
    "    lst2 = ltuple.NAME.split(' ');\n",
    "    if (rtuple.INFO in lst1) or (rtuple.INFO in lst2):\n",
    "        return 1\n",
    "    else:\n",
    "        return 0\n",
    "    \n",
    "def refurbished(ltuple, rtuple):\n",
    "    l = 'refurbished' in ltuple.NAME.lower() \n",
    "    r = 'refurbished' in rtuple.NAME.lower() \n",
    "    if l != r:\n",
    "        return 1\n",
    "    else:\n",
    "        return 0"
   ]
  },
  {
   "cell_type": "code",
   "execution_count": 6,
   "metadata": {
    "collapsed": false
   },
   "outputs": [
    {
     "data": {
      "text/plain": [
       "True"
      ]
     },
     "execution_count": 6,
     "metadata": {},
     "output_type": "execute_result"
    }
   ],
   "source": [
    "# Reuse automatic features of Name\n",
    "block_c = em.get_attr_corres(tb_ama, tb_egg) # block corres\n",
    "block_c['corres'] = [('NAME', 'NAME')]\n",
    "sim = em.get_sim_funs_for_matching() # similarity functions\n",
    "tok = em.get_tokenizers_for_matching() # tokenizing functions\n",
    "F = em.get_features(tb_ama, tb_egg, atypes1, atypes2, block_c, tok, sim)\n",
    "\n",
    "# Brand feature\n",
    "BRAND_BRAND_lev_sim = 'lev_sim(ltuple.BRAND, rtuple.BRAND)'\n",
    "feature = em.get_feature_fn(BRAND_BRAND_lev_sim, sim, tok)\n",
    "em.add_feature(F, 'BRAND_BRAND_lev_sim', feature)\n",
    "\n",
    "# Category feature\n",
    "CATEGORY_CATEGORY_lev_sim = 'lev_sim(ltuple.CATEGORY, rtuple.CATEGORY)'\n",
    "feature = em.get_feature_fn(CATEGORY_CATEGORY_lev_sim, sim, tok)\n",
    "em.add_feature(F, 'CATEGORY_CATEGORY_lev_sim', feature)\n",
    "\n",
    "# Price features\n",
    "em.add_blackbox_feature(F, 'PRICE_PRICE_exact', price_exact)\n",
    "em.add_blackbox_feature(F, 'PRICE_PRICE_small', price_small)\n",
    "em.add_blackbox_feature(F, 'PRICE_PRICE_large', price_large)\n",
    "\n",
    "# Info and name features\n",
    "em.add_blackbox_feature(F, 'INFONAME_INFO_contain', model_in_name)\n",
    "em.add_blackbox_feature(F, 'NAME_NAME_refurbished', refurbished)"
   ]
  },
  {
   "cell_type": "markdown",
   "metadata": {},
   "source": [
    "### Extracting feature vectors"
   ]
  },
  {
   "cell_type": "code",
   "execution_count": 8,
   "metadata": {
    "collapsed": false
   },
   "outputs": [],
   "source": [
    "i_vectors = em.extract_feature_vecs(tb_block, \n",
    "                                    feature_table=F, \n",
    "                                    show_progress=False)\n",
    "i_vectors = em.impute_table(i_vectors, \n",
    "                            exclude_attrs=['_id', 'ltable_ASIN', 'rtable_NID'], \n",
    "                            strategy='median')"
   ]
  },
  {
   "cell_type": "code",
   "execution_count": 9,
   "metadata": {
    "collapsed": true
   },
   "outputs": [],
   "source": [
    "best_features = F\n",
    "best_vectors = i_vectors"
   ]
  },
  {
   "cell_type": "markdown",
   "metadata": {},
   "source": [
    "## 3. Predict"
   ]
  },
  {
   "cell_type": "code",
   "execution_count": 10,
   "metadata": {
    "collapsed": true
   },
   "outputs": [],
   "source": [
    "import pickle"
   ]
  },
  {
   "cell_type": "markdown",
   "metadata": {},
   "source": [
    "### Classify Matches"
   ]
  },
  {
   "cell_type": "code",
   "execution_count": 11,
   "metadata": {
    "collapsed": false
   },
   "outputs": [],
   "source": [
    "# General Evaluation function\n",
    "filename = 'svm_model.sav'\n",
    "model = pickle.load(open(filename, 'rb'))\n",
    "\n",
    "# Predict on test set\n",
    "predictions = model.predict(table=best_vectors, exclude_attrs=['_id', 'ltable_ASIN', 'rtable_NID'], \n",
    "          append=True, target_attr='predicted', inplace=False)"
   ]
  },
  {
   "cell_type": "markdown",
   "metadata": {},
   "source": [
    "### Store matched tuples"
   ]
  },
  {
   "cell_type": "code",
   "execution_count": 12,
   "metadata": {
    "collapsed": false
   },
   "outputs": [],
   "source": [
    "cols = ['ltable_ASIN', 'rtable_NID']\n",
    "df = predictions[predictions['predicted'] == 1]\n",
    "df = df[cols]\n",
    "df.to_csv('matched_tuples.csv', index=False)"
   ]
  }
 ],
 "metadata": {
  "kernelspec": {
   "display_name": "Python 2",
   "language": "python",
   "name": "python2"
  },
  "language_info": {
   "codemirror_mode": {
    "name": "ipython",
    "version": 2
   },
   "file_extension": ".py",
   "mimetype": "text/x-python",
   "name": "python",
   "nbconvert_exporter": "python",
   "pygments_lexer": "ipython2",
   "version": "2.7.13"
  }
 },
 "nbformat": 4,
 "nbformat_minor": 2
}
