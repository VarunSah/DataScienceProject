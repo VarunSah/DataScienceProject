{
 "cells": [
  {
   "cell_type": "markdown",
   "metadata": {},
   "source": [
    "# Blocking"
   ]
  },
  {
   "cell_type": "code",
   "execution_count": 1,
   "metadata": {
    "collapsed": true
   },
   "outputs": [],
   "source": [
    "import csv\n",
    "import py_entitymatching as em\n",
    "import pandas as pd\n",
    "import os\n",
    "# import numpy as np\n",
    "import math"
   ]
  },
  {
   "cell_type": "code",
   "execution_count": 2,
   "metadata": {
    "collapsed": true
   },
   "outputs": [],
   "source": [
    "AMAZON_PRODUCTS_FN = \"data/amazon_products_clean.csv\"\n",
    "NEWEGG_PRODUCTS_FN = \"data/newegg_products.csv\"\n",
    "\n",
    "DEBUG_OUT_FN = \"output/debug_blocking.txt\"\n",
    "SURVIVING_TUPLE_PAIRS_FN = \"output/blocked_pairs_details_all_large.csv\""
   ]
  },
  {
   "cell_type": "code",
   "execution_count": 3,
   "metadata": {
    "collapsed": true
   },
   "outputs": [],
   "source": [
    "def custom_block_func(ltuple, rtuple):\n",
    "    try:\n",
    "        if len(rtuple[\"INFO\"]) > 5:\n",
    "            if (rtuple[\"INFO\"] in ltuple[\"NAME\"]) or (rtuple[\"INFO\"] in ltuple[\"INFO\"]):\n",
    "                return False\n",
    "            else:\n",
    "                return True\n",
    "        else:\n",
    "            return True\n",
    "    except TypeError as e:\n",
    "        return True"
   ]
  },
  {
   "cell_type": "markdown",
   "metadata": {},
   "source": [
    "## Main function"
   ]
  },
  {
   "cell_type": "code",
   "execution_count": 4,
   "metadata": {
    "collapsed": false
   },
   "outputs": [
    {
     "name": "stdout",
     "output_type": "stream",
     "text": [
      "('Number of tuples in A X B:', '72874880')\n"
     ]
    },
    {
     "name": "stderr",
     "output_type": "stream",
     "text": [
      "No handlers could be found for logger \"py_entitymatching.io.parsers\"\n"
     ]
    }
   ],
   "source": [
    "# Load csv files as dataframes and set the key attribute in the dataframe\n",
    "amazon_products = em.read_csv_metadata(AMAZON_PRODUCTS_FN, key=\"ASIN\")\n",
    "newegg_products = em.read_csv_metadata(NEWEGG_PRODUCTS_FN, key=\"NID\")\n",
    "\n",
    "print(\"Number of tuples in A X B:\", str(len(amazon_products) * len(newegg_products)))"
   ]
  },
  {
   "cell_type": "code",
   "execution_count": 5,
   "metadata": {
    "collapsed": false
   },
   "outputs": [
    {
     "name": "stdout",
     "output_type": "stream",
     "text": [
      "('Number of blocked tuples (after blocking on category):', 3842626)\n"
     ]
    }
   ],
   "source": [
    "ab = em.AttrEquivalenceBlocker()\n",
    "blocked = ab.block_tables(amazon_products, newegg_products, \"CATEGORY\", \"CATEGORY\",\n",
    "                          l_output_attrs=[\"NAME\", \"INFO\"], r_output_attrs=[\"NAME\", \"INFO\"])\n",
    "\n",
    "print(\"Number of blocked tuples (after blocking on category):\", len(blocked))"
   ]
  },
  {
   "cell_type": "code",
   "execution_count": 6,
   "metadata": {
    "collapsed": false
   },
   "outputs": [
    {
     "name": "stdout",
     "output_type": "stream",
     "text": [
      "('Number of blocked tuples (after blocking on brand):', 391609)\n"
     ]
    }
   ],
   "source": [
    "ab2 = em.AttrEquivalenceBlocker()\n",
    "blocked = ab2.block_candset(blocked, \"BRAND\", \"BRAND\", allow_missing=True, show_progress=False)\n",
    "print(\"Number of blocked tuples (after blocking on brand):\", len(blocked))"
   ]
  },
  {
   "cell_type": "markdown",
   "metadata": {},
   "source": [
    "### Setup for rules based blocker"
   ]
  },
  {
   "cell_type": "code",
   "execution_count": 7,
   "metadata": {
    "collapsed": true
   },
   "outputs": [],
   "source": [
    "block_t = em.get_tokenizers_for_blocking()\n",
    "block_s = em.get_sim_funs_for_blocking()\n",
    "atypes1 = em.get_attr_types(amazon_products)\n",
    "atypes2 = em.get_attr_types(newegg_products)\n",
    "block_c = em.get_attr_corres(amazon_products, newegg_products)\n",
    "block_f = em.get_features(amazon_products, newegg_products, atypes1, atypes2, block_c, block_t, block_s)"
   ]
  },
  {
   "cell_type": "markdown",
   "metadata": {},
   "source": [
    "### Jaccard Score Between The Names"
   ]
  },
  {
   "cell_type": "code",
   "execution_count": 8,
   "metadata": {
    "collapsed": false
   },
   "outputs": [
    {
     "data": {
      "text/plain": [
       "True"
      ]
     },
     "execution_count": 8,
     "metadata": {},
     "output_type": "execute_result"
    }
   ],
   "source": [
    "r1 = em.get_feature_fn('jaccard(wspace(ltuple.NAME), wspace(rtuple.NAME))', block_t, block_s)\n",
    "# weird workaround for weird bug\n",
    "r1[\"right_attribute\"] = \"NAME\"\n",
    "r1[\"left_attribute\"] = \"NAME\"\n",
    "em.add_feature(block_f, 'name_name_jac', r1)"
   ]
  },
  {
   "cell_type": "code",
   "execution_count": 9,
   "metadata": {
    "collapsed": false
   },
   "outputs": [
    {
     "data": {
      "text/plain": [
       "'_rule_0'"
      ]
     },
     "execution_count": 9,
     "metadata": {},
     "output_type": "execute_result"
    }
   ],
   "source": [
    "rb = em.RuleBasedBlocker()\n",
    "rb.add_rule([\"name_name_jac(ltuple, rtuple) < 0.5\"], block_f)\n",
    "# rb.add_rule([\"custom_block(ltuple, rtuple) > 0\"], block_f)"
   ]
  },
  {
   "cell_type": "code",
   "execution_count": 10,
   "metadata": {
    "collapsed": false
   },
   "outputs": [
    {
     "name": "stdout",
     "output_type": "stream",
     "text": [
      "Tuples after blocking on name: 3997\n"
     ]
    }
   ],
   "source": [
    "blocked_rule = rb.block_candset(blocked, n_jobs=1, show_progress=False)\n",
    "print(\"Tuples after blocking on name: {}\".format(len(blocked_rule)))"
   ]
  },
  {
   "cell_type": "code",
   "execution_count": 11,
   "metadata": {
    "collapsed": false
   },
   "outputs": [
    {
     "name": "stdout",
     "output_type": "stream",
     "text": [
      "Tuples after blocking on custom: 1314\n"
     ]
    }
   ],
   "source": [
    "bb = em.BlackBoxBlocker()\n",
    "bb.set_black_box_function(custom_block_func)\n",
    "blocked_black = bb.block_candset(blocked, n_jobs=1, show_progress=False)\n",
    "print(\"Tuples after blocking on custom: {}\".format(len(blocked_black)))"
   ]
  },
  {
   "cell_type": "code",
   "execution_count": 12,
   "metadata": {
    "collapsed": false
   },
   "outputs": [
    {
     "name": "stdout",
     "output_type": "stream",
     "text": [
      "('Number of blocked tuples (after union):', 4938)\n"
     ]
    }
   ],
   "source": [
    "blocked = em.combine_blocker_outputs_via_union([blocked_rule, blocked_black])\n",
    "print(\"Number of blocked tuples (after union):\", len(blocked))"
   ]
  },
  {
   "cell_type": "markdown",
   "metadata": {},
   "source": [
    "### Debug again"
   ]
  },
  {
   "cell_type": "code",
   "execution_count": 13,
   "metadata": {
    "collapsed": false
   },
   "outputs": [
    {
     "name": "stdout",
     "output_type": "stream",
     "text": [
      "<bound method DataFrame.head of     _id  similarity ltable_ASIN       rtable_NID  \\\n",
      "0     0    1.000000  B002O0L0GC   9SIA3912EU4290   \n",
      "1     1    1.000000  B00PDDMN6S  N82E16811133274   \n",
      "2     2    1.000000  B004LRO1BW   9SIA4RE4T20421   \n",
      "3     3    1.000000  B01CRVKTCS   9SIA4P03S12378   \n",
      "4     4    0.846154  B0062FZ2WS   9SIA0AJ2U28695   \n",
      "5     5    0.833333  B0013IQL4C   9SIA2TN40R4778   \n",
      "6     6    0.800000  B00F0JXDUU   9SIA3TB1JE6631   \n",
      "7     7    0.789474  B00B1LW3W0   9SIA9HJ3JX9155   \n",
      "8     8    0.789474  B00B1LW3W0   9SIA0AJ1RH1076   \n",
      "9     9    0.785714  B007FQNLR6   9SIA3TB1HF4865   \n",
      "10   10    0.777778  B004U3MQQY  N82E16820239976   \n",
      "11   11    0.769231  B01HCXHBIQ   9SIA4UB1UP5595   \n",
      "12   12    0.764706  B00GIHPP8Q  N82E16820231704   \n",
      "13   13    0.764706  B01CRVKTCS   9SIA3FA36D7258   \n",
      "14   14    0.764706  B01CRVKTCS   9SIA6ZP4YF0813   \n",
      "15   15    0.764706  B01CRVKTCS   9SIACGB57B8118   \n",
      "16   16    0.750000  B00GIHPP8Q  N82E16820231581   \n",
      "17   17    0.750000  B002CSRF9M   9SIA07R07D8128   \n",
      "18   18    0.750000  B00GIHPP8Q  N82E16820231579   \n",
      "19   19    0.736842  B004U3MQQY  N82E16820145281   \n",
      "20   20    0.733333  B001MW92AE   9SIA4V21HR8065   \n",
      "21   21    0.722222  B00LJ3GB78   9SIA85V4R41890   \n",
      "22   22    0.714286  B00AU2SFCS   9SIA4RE4TS1920   \n",
      "23   23    0.714286  B0062FZ2WS  N82E16822145966   \n",
      "24   24    0.714286  B00DVXPDRS   9SIA1K641M6194   \n",
      "25   25    0.705882  B00LJ3GB78   9SIA85V4S50090   \n",
      "26   26    0.705882  B00LJ3GB78   9SIA85V41B1195   \n",
      "27   27    0.705882  B00CUBQH3G   9SIA4RE4Y37904   \n",
      "28   28    0.705882  B00F0JXE04  N82E16822236728   \n",
      "29   29    0.700000  B00EXPNG5Y  N82E16820231700   \n",
      "30   30    0.700000  B00EXPNG5Y   9SIA4P03JY0328   \n",
      "31   31    0.700000  B00B1LW3W0   9SIA9DE3SA7183   \n",
      "32   32    0.700000  B004U3MQQY   9SIA4YU2AJ0465   \n",
      "33   33    0.700000  B00B1LW3W0   9SIAAEE4F65004   \n",
      "34   34    0.692308  B00D3GO8R4  N82E16833704039   \n",
      "35   35    0.692308  B00L0YLJJG  N82E16835146042   \n",
      "36   36    0.687500  B00F0JXE04  N82E16822236732   \n",
      "37   37    0.687500  B00F0JXE04   9SIA3TB1JE6631   \n",
      "38   38    0.687500  B00F0JXE04   9SIA85V48D5487   \n",
      "39   39    0.687500  B0061XSBXI   9SIA67S5CF6604   \n",
      "40   40    0.687500  B00F0JXDUU  N82E16822236732   \n",
      "41   41    0.687500  B00F0JXDUU   9SIA85V48D5487   \n",
      "42   42    0.687500  B008DWGYQG   9SIA67S5CF6604   \n",
      "43   43    0.684211  B01CRVKTCS   9SIA1N82849351   \n",
      "44   44    0.684211  B01CRVKTCS  N82E16822236784   \n",
      "45   45    0.684211  B004U3MQQY   9SIA4CP1HH1262   \n",
      "46   46    0.666667  B00LJ3GB78   9SIA85V41B1151   \n",
      "47   47    0.666667  B00A0HZMGA   9SIA25V35K3157   \n",
      "48   48    0.666667  B00FU829ZQ   9SIA4S84638937   \n",
      "49   49    0.666667  B000EF3D64   9SIA4UB1UP6241   \n",
      "\n",
      "                                                                                            ltable_NAME  \\\n",
      "0                                            gyration rechargeable wireless air mouse elite  gym5600na    \n",
      "1                           thermaltake core v21 black extreme micro atx cube chassis  ca-1d5-00s1wn-00   \n",
      "2                                                                      razer anansi mmo gaming keyboard   \n",
      "3            wd 1tb black my passport ultra portable external hard drive - usb 3.0 - wdbgpu0010bbk-nesn   \n",
      "4                          hgst touro mobile 1tb usb 3.0 external hard drive  black  htolmx3na10001abb    \n",
      "5                                                       lenovo thinkpad bluetooth laser mouse  41u5008    \n",
      "6                   wd 2tb  my book studio desktop external hard drive  - usb 3.0  - wdbhml0020hal-nesn   \n",
      "7   western digital blue wd5000azlx 500gb 7200 rpm 32mb cache sata 6.0gb/s 3.5\" internal hard drive ...   \n",
      "8   western digital blue wd5000azlx 500gb 7200 rpm 32mb cache sata 6.0gb/s 3.5\" internal hard drive ...   \n",
      "9           wd my passport 1tb portable external hard drive storage usb 3.0 silver  wdbbep0010bsl-nesn    \n",
      "10  g.skill 8gb  2 x 4gb  204-pin ddr3 so-dimm ddr3 1333  pc3 10600  laptop memory model f3-10600cl9...   \n",
      "11                                   tonor usb external 7.1 channel 3d virtual audio sound card adapter   \n",
      "12  g.skill ripjaws series 8gb 204-pin ddr3 so-dimm ddr3 1600  pc3 12800  laptop memory model f3-160...   \n",
      "13           wd 1tb black my passport ultra portable external hard drive - usb 3.0 - wdbgpu0010bbk-nesn   \n",
      "14           wd 1tb black my passport ultra portable external hard drive - usb 3.0 - wdbgpu0010bbk-nesn   \n",
      "15           wd 1tb black my passport ultra portable external hard drive - usb 3.0 - wdbgpu0010bbk-nesn   \n",
      "16  g.skill ripjaws series 8gb 204-pin ddr3 so-dimm ddr3 1600  pc3 12800  laptop memory model f3-160...   \n",
      "17                               buycheapcables black displayport male to hdmi cable male - 6 feet / 2m   \n",
      "18  g.skill ripjaws series 8gb 204-pin ddr3 so-dimm ddr3 1600  pc3 12800  laptop memory model f3-160...   \n",
      "19  g.skill 8gb  2 x 4gb  204-pin ddr3 so-dimm ddr3 1333  pc3 10600  laptop memory model f3-10600cl9...   \n",
      "20                          external 5.1 usb 3d audio sound card adapter for pc desktop notebook laptop   \n",
      "21              asrock z97 anniversary lga 1150 intel z97 hdmi sata 6gb/s usb 3.0 atx intel motherboard   \n",
      "22                                                            razer deathstalker expert gaming keyboard   \n",
      "23                         hgst touro mobile 1tb usb 3.0 external hard drive  black  htolmx3na10001abb    \n",
      "24               adata hv620 1tb usb 3.0 stylish and sleek external hard drive  black  ahv620-1tu3-cbk    \n",
      "25              asrock z97 anniversary lga 1150 intel z97 hdmi sata 6gb/s usb 3.0 atx intel motherboard   \n",
      "26              asrock z97 anniversary lga 1150 intel z97 hdmi sata 6gb/s usb 3.0 atx intel motherboard   \n",
      "27  cooler master cm storm devastator - full-size gaming keyboard and mouse combo bundle  blue led b...   \n",
      "28                  wd 4tb  my book studio desktop external hard drive  - usb 3.0  - wdbhml0040hal-nesn   \n",
      "29  corsair vengeance performance 16gb  2 x 8g  204-pin ddr3 so-dimm ddr3l 1600  pc3l 12800  laptop ...   \n",
      "30  corsair vengeance performance 16gb  2 x 8g  204-pin ddr3 so-dimm ddr3l 1600  pc3l 12800  laptop ...   \n",
      "31  western digital blue wd5000azlx 500gb 7200 rpm 32mb cache sata 6.0gb/s 3.5\" internal hard drive ...   \n",
      "32  g.skill 8gb  2 x 4gb  204-pin ddr3 so-dimm ddr3 1333  pc3 10600  laptop memory model f3-10600cl9...   \n",
      "33  western digital blue wd5000azlx 500gb 7200 rpm 32mb cache sata 6.0gb/s 3.5\" internal hard drive ...   \n",
      "34                                    tenda n301 wireless n300 home router  300mbps  ip qos  wps button   \n",
      "35                             nzxt kraken x61 280mm all-in-one cpu liquid cooling system  rl-krx61-01    \n",
      "36                  wd 4tb  my book studio desktop external hard drive  - usb 3.0  - wdbhml0040hal-nesn   \n",
      "37                  wd 4tb  my book studio desktop external hard drive  - usb 3.0  - wdbhml0040hal-nesn   \n",
      "38                  wd 4tb  my book studio desktop external hard drive  - usb 3.0  - wdbhml0040hal-nesn   \n",
      "39                           asus p9x79 pro lga 2011 intel x79 sata 6gb/s usb 3.0 atx intel motherboard   \n",
      "40                  wd 2tb  my book studio desktop external hard drive  - usb 3.0  - wdbhml0020hal-nesn   \n",
      "41                  wd 2tb  my book studio desktop external hard drive  - usb 3.0  - wdbhml0020hal-nesn   \n",
      "42                            asus p9x79 le lga 2011 intel x79 sata 6gb/s usb 3.0 atx intel motherboard   \n",
      "43           wd 1tb black my passport ultra portable external hard drive - usb 3.0 - wdbgpu0010bbk-nesn   \n",
      "44           wd 1tb black my passport ultra portable external hard drive - usb 3.0 - wdbgpu0010bbk-nesn   \n",
      "45  g.skill 8gb  2 x 4gb  204-pin ddr3 so-dimm ddr3 1333  pc3 10600  laptop memory model f3-10600cl9...   \n",
      "46              asrock z97 anniversary lga 1150 intel z97 hdmi sata 6gb/s usb 3.0 atx intel motherboard   \n",
      "47                                          corsair hydro series high performance liquid cpu cooler h60   \n",
      "48  gigabyte ga-f2a88xm-d3h fm2+ amd a88x  bolton d4  hdmi sata 6gb/s usb 3.0 micro atx amd motherboard   \n",
      "49                                          creative labs sb0570 pci sound blaster audigy se sound card   \n",
      "\n",
      "                                                                                            rtable_NAME  \n",
      "0                                              gyration rechargeable wireless air mouse elite gym5600na  \n",
      "1                            thermaltake core v21 black extreme micro atx cube chassis ca-1d5-00s1wn-00  \n",
      "2                                                                      razer anansi mmo gaming keyboard  \n",
      "3            wd 1tb black my passport ultra portable external hard drive - usb 3.0 - wdbgpu0010bbk-nesn  \n",
      "4              hgst 1tb touro mobile external hard drive usb 3.0 model htolmx3na10001abb 0s03454  black  \n",
      "5                                                                 lenovo thinkpad bluetooth laser mouse  \n",
      "6                             wd 2tb my book desktop external hard drive - usb 3.0 - wdbfjk0020hbk-nesn  \n",
      "7   western digital blue wd10ealx 1tb 7200 rpm 32mb cache sata 6.0gb/s 3.5\" internal hard drive bare...  \n",
      "8   western digital black wd5002aalx 500gb 7200 rpm 32mb cache sata 6.0gb/s 3.5\" internal hard drive...  \n",
      "9                        wd 1tb my passport external hard drive usb 3.0 model wdbbep0010bsl-nesn silver  \n",
      "10  kingston 8gb  2 x 4gb  204-pin ddr3 so-dimm ddr3 1333  pc3 10600  laptop memory model kvr13s9s8k...  \n",
      "11                                  new usb external 7.1 channel 3d virtual audio sound card adapter pc  \n",
      "12  g.skill ripjaws series 8gb 204-pin ddr3 so-dimm ddr3l 1600  pc3l 12800  laptop memory model f3-1...  \n",
      "13            wd 1tb blue my passport ultra portable external hard drive - usb 3.0 - wdbgpu0010bbl-nesn  \n",
      "14           wd 4tb black my passport ultra portable external hard drive - usb 3.0 - wdbbkd0040bbk-nesn  \n",
      "15           wd 3tb black my passport ultra portable external hard drive - usb 3.0 - wdbbkd0030bbk-nesn  \n",
      "16          g.skill 8gb 204-pin ddr3 so-dimm ddr3 1600  pc3 12800  laptop memory model f3-1600c10s-8gsq  \n",
      "17                          fosmon high quality black displayport male to hdmi cable male - 6 feet / 2m  \n",
      "18          g.skill 8gb 204-pin ddr3 so-dimm ddr3 1600  pc3 12800  laptop memory model f3-1600c11s-8gsq  \n",
      "19  corsair valueselect 8gb  2 x 4gb  204-pin ddr3 so-dimm ddr3 1333  pc3 10600  laptop memory model...  \n",
      "20                            usb 2.0 external 5.1 channel 3d sound card adapter for pc notebook laptop  \n",
      "21                     msi z97 pc mate lga 1150 intel z97 hdmi sata 6gb/s usb 3.0 atx intel motherboard  \n",
      "22                               refurbished  razer deathstalker expert gaming keyboard  rz03-00800100   \n",
      "23                       hgst 1tb touro mobile portable external hard drive usb 3.0 model 0s03801 black  \n",
      "24                              adata 1tb hv620 external hard drive usb 3.0 model ahv620-1tu3-cbk black  \n",
      "25                gigabyte ga-z97x-sli lga 1150 intel z97 hdmi sata 6gb/s usb 3.0 atx intel motherboard  \n",
      "26                          asus z97-e lga 1150 intel z97 hdmi sata 6gb/s usb 3.0 atx intel motherboard  \n",
      "27                      cm storm devastator - led gaming keyboard and mouse combo bundle  blue edition   \n",
      "28                   wd 4tb my book duo desktop raid external hard drive - usb 3.0 - wdblwe0040jch-nesn  \n",
      "29  g.skill 16gb  2 x 8g  204-pin ddr3 so-dimm ddr3l 1600  pc3l 12800  laptop memory model f3-1600c1...  \n",
      "30  crucial 16gb  2 x 8g  204-pin ddr3 so-dimm ddr3l 1600  pc3l 12800  laptop memory model ct2kit102...  \n",
      "31  western digital blue wd2500aakx 250gb 7200 rpm 16mb cache sata 6.0gb/s 3.5\" internal hard drive ...  \n",
      "32  adata supreme series 8gb  2 x 4gb  204-pin ddr3 so-dimm ddr3 1333  pc3 10600  laptop memory mode...  \n",
      "33  western digital blue wd10eals 1tb 7200 rpm 32mb cache sata 3.0gb/s 3.5\" internal hard drive bare...  \n",
      "34                             tp-link tl-wr841n wireless n300 home router  300mbps  ip qos  wps button  \n",
      "35                     nzxt kraken x61 rl-krx61-01 280mm all-in-one water / liquid cpu cooling solution  \n",
      "36                            wd 6tb my book desktop external hard drive - usb 3.0 - wdbfjk0060hbk-nesn  \n",
      "37                            wd 2tb my book desktop external hard drive - usb 3.0 - wdbfjk0020hbk-nesn  \n",
      "38                            wd 3tb my book desktop external hard drive - usb 3.0 - wdbfjk0030hbk-nesn  \n",
      "39                          intel boxdx79si lga 2011 intel x79 sata 6gb/s usb 3.0 atx intel motherboard  \n",
      "40                            wd 6tb my book desktop external hard drive - usb 3.0 - wdbfjk0060hbk-nesn  \n",
      "41                            wd 3tb my book desktop external hard drive - usb 3.0 - wdbfjk0030hbk-nesn  \n",
      "42                          intel boxdx79si lga 2011 intel x79 sata 6gb/s usb 3.0 atx intel motherboard  \n",
      "43  wd 1tb silver my passport ultra metal edition portable external hard drive - usb 3.0 - wdbtyh001...  \n",
      "44  wd 1tb blue-black my passport ultra metal edition portable external hard drive - usb 3.0 - wdbty...  \n",
      "45      pny 8gb  2 x 4gb  204-pin ddr3 so-dimm ddr3 1333  pc3 10666  laptop memory model mn8192kd3-1333  \n",
      "46                  asus z97-pro gamer lga 1150 intel z97 hdmi sata 6gb/s usb 3.0 atx intel motherboard  \n",
      "47                      corsair hydro series cw-9060013-ww h90 140mm high performance liquid cpu cooler  \n",
      "48  asus a88xm-a fm2+ amd a88x  bolton d4  sata 6gb/s usb 3.0 hdmi micro atx amd motherboard with ue...  \n",
      "49                                        creative labs sound blaster audigy se 7.1 24-bit sound card    >\n"
     ]
    }
   ],
   "source": [
    "dbg = em.debug_blocker(blocked, amazon_products, newegg_products, output_size=50, attr_corres=[('NAME', 'NAME')])\n",
    "print(dbg.head)"
   ]
  },
  {
   "cell_type": "markdown",
   "metadata": {},
   "source": [
    "### Save surviving tuple pairs"
   ]
  },
  {
   "cell_type": "code",
   "execution_count": 14,
   "metadata": {
    "collapsed": true
   },
   "outputs": [],
   "source": [
    "blocked.to_csv(SURVIVING_TUPLE_PAIRS_FN)"
   ]
  }
 ],
 "metadata": {
  "kernelspec": {
   "display_name": "Python 2",
   "language": "python",
   "name": "python2"
  },
  "language_info": {
   "codemirror_mode": {
    "name": "ipython",
    "version": 2
   },
   "file_extension": ".py",
   "mimetype": "text/x-python",
   "name": "python",
   "nbconvert_exporter": "python",
   "pygments_lexer": "ipython2",
   "version": "2.7.13"
  }
 },
 "nbformat": 4,
 "nbformat_minor": 2
}
